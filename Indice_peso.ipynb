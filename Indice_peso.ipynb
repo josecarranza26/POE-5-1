{
  "nbformat": 4,
  "nbformat_minor": 0,
  "metadata": {
    "colab": {
      "name": "Indice peso",
      "provenance": [],
      "authorship_tag": "ABX9TyNdG/7U+FGS4M9rhtzsInqq",
      "include_colab_link": true
    },
    "kernelspec": {
      "name": "python3",
      "display_name": "Python 3"
    },
    "language_info": {
      "name": "python"
    }
  },
  "cells": [
    {
      "cell_type": "markdown",
      "metadata": {
        "id": "view-in-github",
        "colab_type": "text"
      },
      "source": [
        "<a href=\"https://colab.research.google.com/github/josecarranza26/POE-5-1/blob/main/Indice_peso.ipynb\" target=\"_parent\"><img src=\"https://colab.research.google.com/assets/colab-badge.svg\" alt=\"Open In Colab\"/></a>"
      ]
    },
    {
      "cell_type": "code",
      "source": [
        "#@title calculo del indice de masa corporal {run: \"auto\", vertical-output: true }\n",
        "Estatura = 1.90#@param {type:\"number\"}\n",
        "Peso = 70#@param {type:\"number\"}\n",
        "print((Peso)/(Estatura*Estatura))\n"
      ],
      "metadata": {
        "colab": {
          "base_uri": "https://localhost:8080/"
        },
        "id": "g2mTstLa2jP5",
        "outputId": "5a22d7a7-8746-459b-a2d9-740f0f64eda0"
      },
      "execution_count": 10,
      "outputs": [
        {
          "output_type": "stream",
          "name": "stdout",
          "text": [
            "19.390581717451525\n"
          ]
        }
      ]
    },
    {
      "cell_type": "code",
      "execution_count": null,
      "metadata": {
        "id": "aN-ITOrP2WnU"
      },
      "outputs": [],
      "source": [
        ""
      ]
    }
  ]
}